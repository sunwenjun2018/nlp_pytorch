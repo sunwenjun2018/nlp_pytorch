{
 "cells": [
  {
   "cell_type": "markdown",
   "metadata": {},
   "source": [
    "# train_bilstm_crf"
   ]
  },
  {
   "cell_type": "markdown",
   "metadata": {},
   "source": [
    "## 代码解释"
   ]
  },
  {
   "cell_type": "markdown",
   "metadata": {},
   "source": [
    "### 加载库"
   ]
  },
  {
   "cell_type": "code",
   "execution_count": 1,
   "metadata": {},
   "outputs": [],
   "source": [
    "import torch\n",
    "import warnings\n",
    "from torch import optim\n",
    "from pyner.train.metrics import F1_score\n",
    "from pyner.train.trainer import Trainer\n",
    "from pyner.io.data_loader import DataLoader\n",
    "from pyner.io.data_transformer import DataTransformer\n",
    "from pyner.utils.logginger import init_logger\n",
    "from pyner.utils.utils import seed_everything\n",
    "from pyner.config.basic_config import configs as config\n",
    "from pyner.callback.lrscheduler import ReduceLROnPlateau\n",
    "from pyner.model.nn.bilstm_crf import Model\n",
    "from pyner.callback.modelcheckpoint import ModelCheckpoint\n",
    "from pyner.callback.trainingmonitor import TrainingMonitor\n",
    "import sys\n",
    "warnings.filterwarnings(\"ignore\")"
   ]
  },
  {
   "cell_type": "markdown",
   "metadata": {},
   "source": [
    "### 变量设定"
   ]
  },
  {
   "cell_type": "code",
   "execution_count": 2,
   "metadata": {},
   "outputs": [
    {
     "name": "stderr",
     "output_type": "stream",
     "text": [
      "[2020-12-23 11:00:01]: bilstm_crf <ipython-input-2-09a7f4c9d8bc>[line:3] INFO  seed is 2018\n"
     ]
    }
   ],
   "source": [
    "arch = 'bilstm_crf'\n",
    "logger = init_logger(log_name=arch, log_dir=config['log_dir'])\n",
    "logger.info(\"seed is %d\"%config['seed'])\n",
    "seed_everything(seed = config['seed'])\n",
    "device = 'cuda:%d' % config['n_gpus'][0] if len(config['n_gpus']) else 'cpu'"
   ]
  },
  {
   "cell_type": "markdown",
   "metadata": {},
   "source": [
    "### 数据预处理模块"
   ]
  },
  {
   "cell_type": "markdown",
   "metadata": {
    "heading_collapsed": true
   },
   "source": [
    "#### 数据预处理类定义"
   ]
  },
  {
   "cell_type": "code",
   "execution_count": 3,
   "metadata": {
    "hidden": true
   },
   "outputs": [],
   "source": [
    "data_transformer = DataTransformer(logger = logger,\n",
    "                                       is_train_mode = True,\n",
    "                                       all_data_path = config['all_data_path'],\n",
    "                                       vocab_path    = config['vocab_path'],\n",
    "                                       max_features  = config['max_features'],\n",
    "                                       label_to_id   = config['label_to_id'],\n",
    "                                       train_file    = config['train_file_path'],\n",
    "                                       valid_file      = config['valid_file_path'],\n",
    "                                       valid_size      = config['valid_size'],\n",
    "                                       min_freq      = config['min_freq'],\n",
    "                                       seed          = config['seed'])"
   ]
  },
  {
   "cell_type": "markdown",
   "metadata": {
    "heading_collapsed": true
   },
   "source": [
    "#### 生成词典"
   ]
  },
  {
   "cell_type": "code",
   "execution_count": 4,
   "metadata": {
    "hidden": true
   },
   "outputs": [],
   "source": [
    "data_transformer.build_vocab()"
   ]
  },
  {
   "cell_type": "markdown",
   "metadata": {
    "heading_collapsed": true
   },
   "source": [
    "#### 将句子转化为id形式"
   ]
  },
  {
   "cell_type": "code",
   "execution_count": 5,
   "metadata": {
    "hidden": true
   },
   "outputs": [
    {
     "name": "stderr",
     "output_type": "stream",
     "text": [
      "[2020-12-23 11:10:55]: bilstm_crf data_transformer.py[line:123] INFO  sentence to id\n"
     ]
    },
    {
     "data": {
      "text/plain": [
       "True"
      ]
     },
     "execution_count": 5,
     "metadata": {},
     "output_type": "execute_result"
    }
   ],
   "source": [
    "data_transformer.sentence2id(raw_data_path   = config['raw_train_path'],\n",
    "                                 raw_target_path = config['raw_target_path'],\n",
    "                                 x_var           = config['x_var'],\n",
    "                                 y_var           = config['y_var'])"
   ]
  },
  {
   "cell_type": "markdown",
   "metadata": {},
   "source": [
    "#### 建立词向量矩阵"
   ]
  },
  {
   "cell_type": "code",
   "execution_count": 11,
   "metadata": {},
   "outputs": [
    {
     "name": "stderr",
     "output_type": "stream",
     "text": [
      "[2020-12-23 11:48:39]: bilstm_crf data_transformer.py[line:173] INFO  initializer embedding matrix\n",
      "[2020-12-23 11:48:39]: bilstm_crf data_transformer.py[line:196] INFO   load emebedding weights\n",
      "[2020-12-23 11:48:39]: bilstm_crf data_transformer.py[line:212] INFO  Total 16115 word vectors.\n"
     ]
    }
   ],
   "source": [
    "word2vec_embedding_weight = data_transformer.build_embedding_matrix(embedding_path = config['embedding_weight_path'])\n",
    "embedding_weight = word2vec_embedding_weight"
   ]
  },
  {
   "cell_type": "markdown",
   "metadata": {},
   "source": [
    "### 构建数据迭代器"
   ]
  },
  {
   "cell_type": "markdown",
   "metadata": {
    "heading_collapsed": true
   },
   "source": [
    "#### 加载训练数据集"
   ]
  },
  {
   "cell_type": "code",
   "execution_count": 7,
   "metadata": {
    "hidden": true
   },
   "outputs": [],
   "source": [
    "train_loader = DataLoader(logger         = logger,\n",
    "                              is_train_mode  = True,\n",
    "                              x_var          = config['x_var'],\n",
    "                              y_var          = config['y_var'],\n",
    "                              skip_header    = False,\n",
    "                              data_path      = config['train_file_path'],\n",
    "                              batch_size     = config['batch_size'],\n",
    "                              max_sentence_length = config['max_length'],\n",
    "                              device = device)"
   ]
  },
  {
   "cell_type": "markdown",
   "metadata": {
    "heading_collapsed": true
   },
   "source": [
    "#### 验证数据集"
   ]
  },
  {
   "cell_type": "code",
   "execution_count": 8,
   "metadata": {
    "hidden": true
   },
   "outputs": [],
   "source": [
    "val_loader = DataLoader(logger        = logger,\n",
    "                            is_train_mode = True,\n",
    "                            x_var         = config['x_var'],\n",
    "                            y_var         =config['y_var'],\n",
    "                            skip_header   = False,\n",
    "                            data_path     = config['valid_file_path'],\n",
    "                            batch_size    = config['batch_size'],\n",
    "                            max_sentence_length = config['max_length'],\n",
    "                            device = device)"
   ]
  },
  {
   "cell_type": "markdown",
   "metadata": {},
   "source": [
    "#### 产生数据迭代器"
   ]
  },
  {
   "cell_type": "code",
   "execution_count": 9,
   "metadata": {},
   "outputs": [],
   "source": [
    "train_iter = train_loader.make_iter()\n",
    "val_iter = val_loader.make_iter()"
   ]
  },
  {
   "cell_type": "markdown",
   "metadata": {},
   "source": [
    "###  模型和优化器"
   ]
  },
  {
   "cell_type": "code",
   "execution_count": 12,
   "metadata": {},
   "outputs": [],
   "source": [
    "model = Model(num_classes      = config['num_classes'],\n",
    "              embedding_dim    = config['embedding_dim'],\n",
    "              model_config     = config['models'][arch],\n",
    "              embedding_weight = embedding_weight,\n",
    "              vocab_size       = len(data_transformer.vocab),\n",
    "              device           = device)\n",
    "optimizer = optim.Adam(params = model.parameters(),lr = config['learning_rate'],\n",
    "                       weight_decay = config['weight_decay'])"
   ]
  },
  {
   "cell_type": "markdown",
   "metadata": {},
   "source": [
    "### callbacks"
   ]
  },
  {
   "cell_type": "code",
   "execution_count": 13,
   "metadata": {},
   "outputs": [
    {
     "name": "stderr",
     "output_type": "stream",
     "text": [
      "[2020-12-23 11:49:57]: bilstm_crf <ipython-input-13-964d892987af>[line:1] INFO  initializing callbacks\n"
     ]
    }
   ],
   "source": [
    "logger.info(\"initializing callbacks\")"
   ]
  },
  {
   "cell_type": "markdown",
   "metadata": {},
   "source": [
    "#### 模型保存"
   ]
  },
  {
   "cell_type": "code",
   "execution_count": 14,
   "metadata": {},
   "outputs": [],
   "source": [
    "model_checkpoint = ModelCheckpoint(checkpoint_dir   = config['checkpoint_dir'],\n",
    "                                   mode             = config['mode'],\n",
    "                                   monitor          = config['monitor'],\n",
    "                                   save_best_only   = config['save_best_only'],\n",
    "                                   best_model_name  = config['best_model_name'],\n",
    "                                   epoch_model_name = config['epoch_model_name'],\n",
    "                                   arch             = arch,\n",
    "                                   logger           = logger)"
   ]
  },
  {
   "cell_type": "markdown",
   "metadata": {},
   "source": [
    "#### 监控训练过程"
   ]
  },
  {
   "cell_type": "code",
   "execution_count": 15,
   "metadata": {},
   "outputs": [],
   "source": [
    "train_monitor = TrainingMonitor(fig_dir  = config['figure_dir'],\n",
    "                                json_dir = config['log_dir'],\n",
    "                                arch     = arch)"
   ]
  },
  {
   "cell_type": "markdown",
   "metadata": {},
   "source": [
    "#### 学习率机制"
   ]
  },
  {
   "cell_type": "code",
   "execution_count": 17,
   "metadata": {},
   "outputs": [],
   "source": [
    "lr_scheduler = ReduceLROnPlateau(optimizer=optimizer,\n",
    "                                 factor   = 0.5,\n",
    "                                 patience = config['lr_patience'],\n",
    "                                 min_lr   = 1e-9,\n",
    "                                 epsilon  = 1e-5,\n",
    "                                 verbose  = 1,\n",
    "                                 mode     = config['mode'])"
   ]
  },
  {
   "cell_type": "markdown",
   "metadata": {},
   "source": [
    "### 模型训练"
   ]
  },
  {
   "cell_type": "code",
   "execution_count": 18,
   "metadata": {},
   "outputs": [
    {
     "name": "stderr",
     "output_type": "stream",
     "text": [
      "[2020-12-23 14:34:51]: bilstm_crf <ipython-input-18-f1bb7e4c4970>[line:1] INFO  training model....\n"
     ]
    }
   ],
   "source": [
    "logger.info('training model....')"
   ]
  },
  {
   "cell_type": "markdown",
   "metadata": {},
   "source": [
    "#### 模型 Trainer 定义"
   ]
  },
  {
   "cell_type": "code",
   "execution_count": 20,
   "metadata": {},
   "outputs": [],
   "source": [
    "trainer = Trainer(model            = model,\n",
    "                      train_data       = train_iter,\n",
    "                      val_data         = val_iter,\n",
    "                      optimizer        = optimizer,\n",
    "                      epochs           = config['epochs'],\n",
    "                      label_to_id      = config['label_to_id'],\n",
    "                      evaluate         = F1_score(num_classes=config['num_classes']),\n",
    "                      logger           = logger,\n",
    "                      model_checkpoint = model_checkpoint,\n",
    "                      training_monitor = train_monitor,\n",
    "                      resume           = config['resume'],\n",
    "                      lr_scheduler     = lr_scheduler,\n",
    "                      n_gpu            = config['n_gpus'],\n",
    "                      avg_batch_loss   = True)"
   ]
  },
  {
   "cell_type": "markdown",
   "metadata": {},
   "source": [
    "#### 查看模型结构"
   ]
  },
  {
   "cell_type": "code",
   "execution_count": 21,
   "metadata": {},
   "outputs": [
    {
     "name": "stderr",
     "output_type": "stream",
     "text": [
      "[2020-12-23 14:37:30]: bilstm_crf trainer.py[line:82] INFO  trainable parameters: 0.9659099999999999M\n",
      "[2020-12-23 14:37:30]: bilstm_crf trainer.py[line:84] INFO  Model(\n",
      "  (embedding): Embed_Layer(\n",
      "    (encoder): Embedding(4769, 100)\n",
      "    (dropout): Dropout(p=0.0, inplace=False)\n",
      "  )\n",
      "  (lstm): BILSTM(\n",
      "    (lstm): LSTM(100, 200, batch_first=True, dropout=0.5, bidirectional=True)\n",
      "    (linear): Linear(in_features=400, out_features=14, bias=True)\n",
      "  )\n",
      "  (crf): CRF()\n",
      ")\n"
     ]
    }
   ],
   "source": [
    "trainer.summary()"
   ]
  },
  {
   "cell_type": "markdown",
   "metadata": {},
   "source": [
    "#### 拟合模型   "
   ]
  },
  {
   "cell_type": "code",
   "execution_count": null,
   "metadata": {},
   "outputs": [
    {
     "name": "stdout",
     "output_type": "stream",
     "text": [
      "----------------- training start -----------------------\n",
      "Epoch 1/100......\n",
      "[training] 179/179 [>>>>>>>>>>>>>>>>>>>>>>>>>>>>>>] -4.0s/step- loss: 5.5657- acc: 0.9312 - f1: 0.4581\n",
      "training result:\n"
     ]
    },
    {
     "name": "stderr",
     "output_type": "stream",
     "text": [
      "[2020-12-23 14:46:25]: bilstm_crf trainer.py[line:194] INFO  \n",
      "Epoch: 1 - loss: 6.1080 acc: 0.9339 - f1: 0.4025 val_loss: 3.1100 - val_acc: 0.9375 - val_f1: 0.5131\n",
      "[2020-12-23 14:46:25]: bilstm_crf modelcheckpoint.py[line:47] INFO  \n",
      "Epoch 1: val_loss improved from inf to 3.11004\n"
     ]
    },
    {
     "name": "stdout",
     "output_type": "stream",
     "text": [
      "----------- Train entity score:\n",
      "----------- valid entity score:\n",
      "----------------- training start -----------------------\n",
      "Epoch 2/100......\n",
      "[training] 179/179 [>>>>>>>>>>>>>>>>>>>>>>>>>>>>>>] -3.8s/step- loss: 2.7980- acc: 0.9544 - f1: 0.4923\n",
      "training result:\n"
     ]
    },
    {
     "name": "stderr",
     "output_type": "stream",
     "text": [
      "[2020-12-23 14:54:52]: bilstm_crf trainer.py[line:194] INFO  \n",
      "Epoch: 2 - loss: 2.2388 acc: 0.9593 - f1: 0.4895 val_loss: 1.9590 - val_acc: 0.9499 - val_f1: 0.5418\n"
     ]
    },
    {
     "name": "stdout",
     "output_type": "stream",
     "text": [
      "----------- Train entity score:\n",
      "----------- valid entity score:\n"
     ]
    },
    {
     "name": "stderr",
     "output_type": "stream",
     "text": [
      "[2020-12-23 14:54:52]: bilstm_crf modelcheckpoint.py[line:47] INFO  \n",
      "Epoch 2: val_loss improved from 3.11004 to 1.95901\n"
     ]
    },
    {
     "name": "stdout",
     "output_type": "stream",
     "text": [
      "----------------- training start -----------------------\n",
      "Epoch 3/100......\n",
      "[training] 14/179 [>>                            ] -1.3s/step- loss: 1.0951- acc: 0.9736 - f1: 0.5117"
     ]
    }
   ],
   "source": [
    "trainer.train()"
   ]
  },
  {
   "cell_type": "markdown",
   "metadata": {},
   "source": [
    "#### 释放显存"
   ]
  },
  {
   "cell_type": "code",
   "execution_count": null,
   "metadata": {},
   "outputs": [],
   "source": [
    " if len(config['n_gpus']) > 0:\n",
    "        torch.cuda.empty_cache()"
   ]
  }
 ],
 "metadata": {
  "hide_input": false,
  "kernelspec": {
   "display_name": "Python 3",
   "language": "python",
   "name": "python3"
  },
  "language_info": {
   "codemirror_mode": {
    "name": "ipython",
    "version": 3
   },
   "file_extension": ".py",
   "mimetype": "text/x-python",
   "name": "python",
   "nbconvert_exporter": "python",
   "pygments_lexer": "ipython3",
   "version": "3.7.0"
  },
  "toc": {
   "base_numbering": 1,
   "nav_menu": {},
   "number_sections": true,
   "sideBar": true,
   "skip_h1_title": false,
   "title_cell": "Table of Contents",
   "title_sidebar": "Contents",
   "toc_cell": false,
   "toc_position": {},
   "toc_section_display": true,
   "toc_window_display": false
  }
 },
 "nbformat": 4,
 "nbformat_minor": 2
}
