{
 "cells": [
  {
   "cell_type": "markdown",
   "metadata": {},
   "source": [
    "# 方法测试"
   ]
  },
  {
   "cell_type": "markdown",
   "metadata": {},
   "source": [
    "## 加载 npz 数据"
   ]
  },
  {
   "cell_type": "code",
   "execution_count": 20,
   "metadata": {},
   "outputs": [
    {
     "name": "stdout",
     "output_type": "stream",
     "text": [
      "['embeddings']\n",
      "[[ 0.29827962  0.41063769  0.89462984 ...  0.6416691   0.88055139\n",
      "   0.16834516]\n",
      " [ 0.00102    -0.133386   -0.190171   ... -0.14429501 -0.52121401\n",
      "   0.206875  ]\n",
      " [-0.024858    0.130821   -0.401039   ...  0.34848201 -0.50993001\n",
      "  -0.183386  ]\n",
      " ...\n",
      " [-0.20301799  0.144519   -0.003503   ... -0.29272199 -0.155543\n",
      "   0.066212  ]\n",
      " [ 0.50523703  0.6514817   0.40988785 ...  0.63914118  0.27362602\n",
      "   0.79338627]\n",
      " [ 0.28897455  0.88642565  0.62531905 ...  0.67309214  0.78327786\n",
      "   0.13400399]]\n"
     ]
    }
   ],
   "source": [
    "import numpy as np\n",
    "data_path = \"THUCNews/data/\"\n",
    "data_name = f\"{data_path}embedding_SougouNews.npz\"\n",
    "embedding = np.load(data_name)\n",
    "print(embedding.files)  \n",
    "print(embedding['embeddings'])"
   ]
  },
  {
   "cell_type": "markdown",
   "metadata": {},
   "source": [
    "## 加载 pkl"
   ]
  },
  {
   "cell_type": "code",
   "execution_count": 21,
   "metadata": {},
   "outputs": [],
   "source": [
    "import pickle"
   ]
  },
  {
   "cell_type": "code",
   "execution_count": 22,
   "metadata": {},
   "outputs": [],
   "source": [
    "vocab = pickle.load(open(f\"{data_path}vocab.pkl\", 'rb'))"
   ]
  },
  {
   "cell_type": "code",
   "execution_count": 25,
   "metadata": {},
   "outputs": [
    {
     "name": "stdout",
     "output_type": "stream",
     "text": [
      "<UNK>:4760\n",
      "<PAD>:4761\n"
     ]
    }
   ],
   "source": [
    "for key,val in vocab.items():\n",
    "    if len(key)>1:\n",
    "        print(f\"{key}:{val}\")"
   ]
  },
  {
   "cell_type": "code",
   "execution_count": null,
   "metadata": {},
   "outputs": [],
   "source": []
  }
 ],
 "metadata": {
  "hide_input": false,
  "kernelspec": {
   "display_name": "Python 3",
   "language": "python",
   "name": "python3"
  },
  "language_info": {
   "codemirror_mode": {
    "name": "ipython",
    "version": 3
   },
   "file_extension": ".py",
   "mimetype": "text/x-python",
   "name": "python",
   "nbconvert_exporter": "python",
   "pygments_lexer": "ipython3",
   "version": "3.7.0"
  },
  "toc": {
   "base_numbering": 1,
   "nav_menu": {},
   "number_sections": true,
   "sideBar": true,
   "skip_h1_title": false,
   "title_cell": "Table of Contents",
   "title_sidebar": "Contents",
   "toc_cell": false,
   "toc_position": {},
   "toc_section_display": true,
   "toc_window_display": false
  }
 },
 "nbformat": 4,
 "nbformat_minor": 2
}
